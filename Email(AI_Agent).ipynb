{
  "nbformat": 4,
  "nbformat_minor": 0,
  "metadata": {
    "colab": {
      "provenance": []
    },
    "kernelspec": {
      "name": "python3",
      "display_name": "Python 3"
    },
    "language_info": {
      "name": "python"
    }
  },
  "cells": [
    {
      "cell_type": "markdown",
      "source": [
        "1. **Installing required library and packages and setting Groq API:**"
      ],
      "metadata": {
        "id": "QOLgPU2s9rv1"
      }
    },
    {
      "cell_type": "code",
      "source": [
        "pip install groq"
      ],
      "metadata": {
        "colab": {
          "base_uri": "https://localhost:8080/"
        },
        "id": "oZNuSR60ge8L",
        "outputId": "2c448b52-5223-4127-8c3c-50201138f42d"
      },
      "execution_count": 2,
      "outputs": [
        {
          "output_type": "stream",
          "name": "stdout",
          "text": [
            "Requirement already satisfied: groq in /usr/local/lib/python3.11/dist-packages (0.18.0)\n",
            "Requirement already satisfied: anyio<5,>=3.5.0 in /usr/local/lib/python3.11/dist-packages (from groq) (3.7.1)\n",
            "Requirement already satisfied: distro<2,>=1.7.0 in /usr/local/lib/python3.11/dist-packages (from groq) (1.9.0)\n",
            "Requirement already satisfied: httpx<1,>=0.23.0 in /usr/local/lib/python3.11/dist-packages (from groq) (0.28.1)\n",
            "Requirement already satisfied: pydantic<3,>=1.9.0 in /usr/local/lib/python3.11/dist-packages (from groq) (2.10.6)\n",
            "Requirement already satisfied: sniffio in /usr/local/lib/python3.11/dist-packages (from groq) (1.3.1)\n",
            "Requirement already satisfied: typing-extensions<5,>=4.10 in /usr/local/lib/python3.11/dist-packages (from groq) (4.12.2)\n",
            "Requirement already satisfied: idna>=2.8 in /usr/local/lib/python3.11/dist-packages (from anyio<5,>=3.5.0->groq) (3.10)\n",
            "Requirement already satisfied: certifi in /usr/local/lib/python3.11/dist-packages (from httpx<1,>=0.23.0->groq) (2025.1.31)\n",
            "Requirement already satisfied: httpcore==1.* in /usr/local/lib/python3.11/dist-packages (from httpx<1,>=0.23.0->groq) (1.0.7)\n",
            "Requirement already satisfied: h11<0.15,>=0.13 in /usr/local/lib/python3.11/dist-packages (from httpcore==1.*->httpx<1,>=0.23.0->groq) (0.14.0)\n",
            "Requirement already satisfied: annotated-types>=0.6.0 in /usr/local/lib/python3.11/dist-packages (from pydantic<3,>=1.9.0->groq) (0.7.0)\n",
            "Requirement already satisfied: pydantic-core==2.27.2 in /usr/local/lib/python3.11/dist-packages (from pydantic<3,>=1.9.0->groq) (2.27.2)\n"
          ]
        }
      ]
    },
    {
      "cell_type": "code",
      "source": [
        "from google.colab import userdata\n",
        "api_key = userdata.get(\"GROQ_API_KEY\")"
      ],
      "metadata": {
        "id": "tjakvHMiI3TU"
      },
      "execution_count": 3,
      "outputs": []
    },
    {
      "cell_type": "code",
      "source": [
        "import groq\n",
        "\n",
        "client = groq.Client(api_key=api_key)"
      ],
      "metadata": {
        "id": "TMQlc_xwI-xo"
      },
      "execution_count": 4,
      "outputs": []
    },
    {
      "cell_type": "code",
      "source": [
        "!pip install langchain"
      ],
      "metadata": {
        "colab": {
          "base_uri": "https://localhost:8080/"
        },
        "id": "7250L8dR1RCp",
        "outputId": "24943d98-2d5b-4a15-d1bb-fc5a9867a310"
      },
      "execution_count": 5,
      "outputs": [
        {
          "output_type": "stream",
          "name": "stdout",
          "text": [
            "Requirement already satisfied: langchain in /usr/local/lib/python3.11/dist-packages (0.3.19)\n",
            "Requirement already satisfied: langchain-core<1.0.0,>=0.3.35 in /usr/local/lib/python3.11/dist-packages (from langchain) (0.3.37)\n",
            "Requirement already satisfied: langchain-text-splitters<1.0.0,>=0.3.6 in /usr/local/lib/python3.11/dist-packages (from langchain) (0.3.6)\n",
            "Requirement already satisfied: langsmith<0.4,>=0.1.17 in /usr/local/lib/python3.11/dist-packages (from langchain) (0.3.8)\n",
            "Requirement already satisfied: pydantic<3.0.0,>=2.7.4 in /usr/local/lib/python3.11/dist-packages (from langchain) (2.10.6)\n",
            "Requirement already satisfied: SQLAlchemy<3,>=1.4 in /usr/local/lib/python3.11/dist-packages (from langchain) (2.0.38)\n",
            "Requirement already satisfied: requests<3,>=2 in /usr/local/lib/python3.11/dist-packages (from langchain) (2.32.3)\n",
            "Requirement already satisfied: PyYAML>=5.3 in /usr/local/lib/python3.11/dist-packages (from langchain) (6.0.2)\n",
            "Requirement already satisfied: aiohttp<4.0.0,>=3.8.3 in /usr/local/lib/python3.11/dist-packages (from langchain) (3.11.12)\n",
            "Requirement already satisfied: tenacity!=8.4.0,<10,>=8.1.0 in /usr/local/lib/python3.11/dist-packages (from langchain) (9.0.0)\n",
            "Requirement already satisfied: numpy<2,>=1.26.4 in /usr/local/lib/python3.11/dist-packages (from langchain) (1.26.4)\n",
            "Requirement already satisfied: aiohappyeyeballs>=2.3.0 in /usr/local/lib/python3.11/dist-packages (from aiohttp<4.0.0,>=3.8.3->langchain) (2.4.6)\n",
            "Requirement already satisfied: aiosignal>=1.1.2 in /usr/local/lib/python3.11/dist-packages (from aiohttp<4.0.0,>=3.8.3->langchain) (1.3.2)\n",
            "Requirement already satisfied: attrs>=17.3.0 in /usr/local/lib/python3.11/dist-packages (from aiohttp<4.0.0,>=3.8.3->langchain) (25.1.0)\n",
            "Requirement already satisfied: frozenlist>=1.1.1 in /usr/local/lib/python3.11/dist-packages (from aiohttp<4.0.0,>=3.8.3->langchain) (1.5.0)\n",
            "Requirement already satisfied: multidict<7.0,>=4.5 in /usr/local/lib/python3.11/dist-packages (from aiohttp<4.0.0,>=3.8.3->langchain) (6.1.0)\n",
            "Requirement already satisfied: propcache>=0.2.0 in /usr/local/lib/python3.11/dist-packages (from aiohttp<4.0.0,>=3.8.3->langchain) (0.2.1)\n",
            "Requirement already satisfied: yarl<2.0,>=1.17.0 in /usr/local/lib/python3.11/dist-packages (from aiohttp<4.0.0,>=3.8.3->langchain) (1.18.3)\n",
            "Requirement already satisfied: jsonpatch<2.0,>=1.33 in /usr/local/lib/python3.11/dist-packages (from langchain-core<1.0.0,>=0.3.35->langchain) (1.33)\n",
            "Requirement already satisfied: packaging<25,>=23.2 in /usr/local/lib/python3.11/dist-packages (from langchain-core<1.0.0,>=0.3.35->langchain) (24.2)\n",
            "Requirement already satisfied: typing-extensions>=4.7 in /usr/local/lib/python3.11/dist-packages (from langchain-core<1.0.0,>=0.3.35->langchain) (4.12.2)\n",
            "Requirement already satisfied: httpx<1,>=0.23.0 in /usr/local/lib/python3.11/dist-packages (from langsmith<0.4,>=0.1.17->langchain) (0.28.1)\n",
            "Requirement already satisfied: orjson<4.0.0,>=3.9.14 in /usr/local/lib/python3.11/dist-packages (from langsmith<0.4,>=0.1.17->langchain) (3.10.15)\n",
            "Requirement already satisfied: requests-toolbelt<2.0.0,>=1.0.0 in /usr/local/lib/python3.11/dist-packages (from langsmith<0.4,>=0.1.17->langchain) (1.0.0)\n",
            "Requirement already satisfied: zstandard<0.24.0,>=0.23.0 in /usr/local/lib/python3.11/dist-packages (from langsmith<0.4,>=0.1.17->langchain) (0.23.0)\n",
            "Requirement already satisfied: annotated-types>=0.6.0 in /usr/local/lib/python3.11/dist-packages (from pydantic<3.0.0,>=2.7.4->langchain) (0.7.0)\n",
            "Requirement already satisfied: pydantic-core==2.27.2 in /usr/local/lib/python3.11/dist-packages (from pydantic<3.0.0,>=2.7.4->langchain) (2.27.2)\n",
            "Requirement already satisfied: charset-normalizer<4,>=2 in /usr/local/lib/python3.11/dist-packages (from requests<3,>=2->langchain) (3.4.1)\n",
            "Requirement already satisfied: idna<4,>=2.5 in /usr/local/lib/python3.11/dist-packages (from requests<3,>=2->langchain) (3.10)\n",
            "Requirement already satisfied: urllib3<3,>=1.21.1 in /usr/local/lib/python3.11/dist-packages (from requests<3,>=2->langchain) (2.3.0)\n",
            "Requirement already satisfied: certifi>=2017.4.17 in /usr/local/lib/python3.11/dist-packages (from requests<3,>=2->langchain) (2025.1.31)\n",
            "Requirement already satisfied: greenlet!=0.4.17 in /usr/local/lib/python3.11/dist-packages (from SQLAlchemy<3,>=1.4->langchain) (3.1.1)\n",
            "Requirement already satisfied: anyio in /usr/local/lib/python3.11/dist-packages (from httpx<1,>=0.23.0->langsmith<0.4,>=0.1.17->langchain) (3.7.1)\n",
            "Requirement already satisfied: httpcore==1.* in /usr/local/lib/python3.11/dist-packages (from httpx<1,>=0.23.0->langsmith<0.4,>=0.1.17->langchain) (1.0.7)\n",
            "Requirement already satisfied: h11<0.15,>=0.13 in /usr/local/lib/python3.11/dist-packages (from httpcore==1.*->httpx<1,>=0.23.0->langsmith<0.4,>=0.1.17->langchain) (0.14.0)\n",
            "Requirement already satisfied: jsonpointer>=1.9 in /usr/local/lib/python3.11/dist-packages (from jsonpatch<2.0,>=1.33->langchain-core<1.0.0,>=0.3.35->langchain) (3.0.0)\n",
            "Requirement already satisfied: sniffio>=1.1 in /usr/local/lib/python3.11/dist-packages (from anyio->httpx<1,>=0.23.0->langsmith<0.4,>=0.1.17->langchain) (1.3.1)\n"
          ]
        }
      ]
    },
    {
      "cell_type": "markdown",
      "source": [
        "2. Downloading Enron dataset for email"
      ],
      "metadata": {
        "id": "ECdesB1W_YFa"
      }
    },
    {
      "cell_type": "code",
      "source": [
        "import kagglehub\n",
        "\n",
        "# Download latest version\n",
        "path = kagglehub.dataset_download(\"wcukierski/enron-email-dataset\")\n",
        "\n",
        "print(\"Path to dataset files:\", path)"
      ],
      "metadata": {
        "colab": {
          "base_uri": "https://localhost:8080/"
        },
        "id": "vuKoGO-NyPRZ",
        "outputId": "128f0858-b70b-4e5d-8582-a375fac4ec69"
      },
      "execution_count": 6,
      "outputs": [
        {
          "output_type": "stream",
          "name": "stdout",
          "text": [
            "Path to dataset files: /root/.cache/kagglehub/datasets/wcukierski/enron-email-dataset/versions/2\n"
          ]
        }
      ]
    },
    {
      "cell_type": "code",
      "source": [
        "import os"
      ],
      "metadata": {
        "id": "wMZNyIcu1-Cb"
      },
      "execution_count": 7,
      "outputs": []
    },
    {
      "cell_type": "code",
      "source": [
        "import pandas as pd\n",
        "\n",
        "# Path to the dataset\n",
        "dataset_path = \"/root/.cache/kagglehub/datasets/wcukierski/enron-email-dataset/versions/2/emails.csv\"\n",
        "\n",
        "# Load the CSV file into a DataFrame\n",
        "df = pd.read_csv(dataset_path)\n",
        "\n",
        "# Display the first few rows of the DataFrame\n",
        "print(df.head())"
      ],
      "metadata": {
        "colab": {
          "base_uri": "https://localhost:8080/"
        },
        "id": "IMu49TKH37C_",
        "outputId": "8963a0ad-3a56-4670-8720-bdc2429143f9"
      },
      "execution_count": 8,
      "outputs": [
        {
          "output_type": "stream",
          "name": "stdout",
          "text": [
            "                       file                                            message\n",
            "0     allen-p/_sent_mail/1.  Message-ID: <18782981.1075855378110.JavaMail.e...\n",
            "1    allen-p/_sent_mail/10.  Message-ID: <15464986.1075855378456.JavaMail.e...\n",
            "2   allen-p/_sent_mail/100.  Message-ID: <24216240.1075855687451.JavaMail.e...\n",
            "3  allen-p/_sent_mail/1000.  Message-ID: <13505866.1075863688222.JavaMail.e...\n",
            "4  allen-p/_sent_mail/1001.  Message-ID: <30922949.1075863688243.JavaMail.e...\n"
          ]
        }
      ]
    },
    {
      "cell_type": "code",
      "source": [
        "# Extract email content from the 'message' column\n",
        "emails = df['message'].tolist()\n",
        "\n",
        "# Display the first few emails\n",
        "for i, email in enumerate(emails[:5]):\n",
        "    print(f\"Email {i+1}:\")\n",
        "    print(email)\n",
        "    print(\"\\n---\\n\")"
      ],
      "metadata": {
        "colab": {
          "base_uri": "https://localhost:8080/"
        },
        "id": "tvnCKSZk4be2",
        "outputId": "6429bedd-9896-4148-c298-5b77ab948696"
      },
      "execution_count": 9,
      "outputs": [
        {
          "output_type": "stream",
          "name": "stdout",
          "text": [
            "Email 1:\n",
            "Message-ID: <18782981.1075855378110.JavaMail.evans@thyme>\n",
            "Date: Mon, 14 May 2001 16:39:00 -0700 (PDT)\n",
            "From: phillip.allen@enron.com\n",
            "To: tim.belden@enron.com\n",
            "Subject: \n",
            "Mime-Version: 1.0\n",
            "Content-Type: text/plain; charset=us-ascii\n",
            "Content-Transfer-Encoding: 7bit\n",
            "X-From: Phillip K Allen\n",
            "X-To: Tim Belden <Tim Belden/Enron@EnronXGate>\n",
            "X-cc: \n",
            "X-bcc: \n",
            "X-Folder: \\Phillip_Allen_Jan2002_1\\Allen, Phillip K.\\'Sent Mail\n",
            "X-Origin: Allen-P\n",
            "X-FileName: pallen (Non-Privileged).pst\n",
            "\n",
            "Here is our forecast\n",
            "\n",
            " \n",
            "\n",
            "---\n",
            "\n",
            "Email 2:\n",
            "Message-ID: <15464986.1075855378456.JavaMail.evans@thyme>\n",
            "Date: Fri, 4 May 2001 13:51:00 -0700 (PDT)\n",
            "From: phillip.allen@enron.com\n",
            "To: john.lavorato@enron.com\n",
            "Subject: Re:\n",
            "Mime-Version: 1.0\n",
            "Content-Type: text/plain; charset=us-ascii\n",
            "Content-Transfer-Encoding: 7bit\n",
            "X-From: Phillip K Allen\n",
            "X-To: John J Lavorato <John J Lavorato/ENRON@enronXgate@ENRON>\n",
            "X-cc: \n",
            "X-bcc: \n",
            "X-Folder: \\Phillip_Allen_Jan2002_1\\Allen, Phillip K.\\'Sent Mail\n",
            "X-Origin: Allen-P\n",
            "X-FileName: pallen (Non-Privileged).pst\n",
            "\n",
            "Traveling to have a business meeting takes the fun out of the trip.  Especially if you have to prepare a presentation.  I would suggest holding the business plan meetings here then take a trip without any formal business meetings.  I would even try and get some honest opinions on whether a trip is even desired or necessary.\n",
            "\n",
            "As far as the business meetings, I think it would be more productive to try and stimulate discussions across the different groups about what is working and what is not.  Too often the presenter speaks and the others are quiet just waiting for their turn.   The meetings might be better if held in a round table discussion format.  \n",
            "\n",
            "My suggestion for where to go is Austin.  Play golf and rent a ski boat and jet ski's.  Flying somewhere takes too much time.\n",
            "\n",
            "\n",
            "---\n",
            "\n",
            "Email 3:\n",
            "Message-ID: <24216240.1075855687451.JavaMail.evans@thyme>\n",
            "Date: Wed, 18 Oct 2000 03:00:00 -0700 (PDT)\n",
            "From: phillip.allen@enron.com\n",
            "To: leah.arsdall@enron.com\n",
            "Subject: Re: test\n",
            "Mime-Version: 1.0\n",
            "Content-Type: text/plain; charset=us-ascii\n",
            "Content-Transfer-Encoding: 7bit\n",
            "X-From: Phillip K Allen\n",
            "X-To: Leah Van Arsdall\n",
            "X-cc: \n",
            "X-bcc: \n",
            "X-Folder: \\Phillip_Allen_Dec2000\\Notes Folders\\'sent mail\n",
            "X-Origin: Allen-P\n",
            "X-FileName: pallen.nsf\n",
            "\n",
            "test successful.  way to go!!!\n",
            "\n",
            "---\n",
            "\n",
            "Email 4:\n",
            "Message-ID: <13505866.1075863688222.JavaMail.evans@thyme>\n",
            "Date: Mon, 23 Oct 2000 06:13:00 -0700 (PDT)\n",
            "From: phillip.allen@enron.com\n",
            "To: randall.gay@enron.com\n",
            "Subject: \n",
            "Mime-Version: 1.0\n",
            "Content-Type: text/plain; charset=us-ascii\n",
            "Content-Transfer-Encoding: 7bit\n",
            "X-From: Phillip K Allen\n",
            "X-To: Randall L Gay\n",
            "X-cc: \n",
            "X-bcc: \n",
            "X-Folder: \\Phillip_Allen_Dec2000\\Notes Folders\\'sent mail\n",
            "X-Origin: Allen-P\n",
            "X-FileName: pallen.nsf\n",
            "\n",
            "Randy,\n",
            "\n",
            " Can you send me a schedule of the salary and level of everyone in the \n",
            "scheduling group.  Plus your thoughts on any changes that need to be made.  \n",
            "(Patti S for example)\n",
            "\n",
            "Phillip\n",
            "\n",
            "---\n",
            "\n",
            "Email 5:\n",
            "Message-ID: <30922949.1075863688243.JavaMail.evans@thyme>\n",
            "Date: Thu, 31 Aug 2000 05:07:00 -0700 (PDT)\n",
            "From: phillip.allen@enron.com\n",
            "To: greg.piper@enron.com\n",
            "Subject: Re: Hello\n",
            "Mime-Version: 1.0\n",
            "Content-Type: text/plain; charset=us-ascii\n",
            "Content-Transfer-Encoding: 7bit\n",
            "X-From: Phillip K Allen\n",
            "X-To: Greg Piper\n",
            "X-cc: \n",
            "X-bcc: \n",
            "X-Folder: \\Phillip_Allen_Dec2000\\Notes Folders\\'sent mail\n",
            "X-Origin: Allen-P\n",
            "X-FileName: pallen.nsf\n",
            "\n",
            "Let's shoot for Tuesday at 11:45.  \n",
            "\n",
            "---\n",
            "\n"
          ]
        }
      ]
    },
    {
      "cell_type": "markdown",
      "source": [
        "**Extracting Email body **"
      ],
      "metadata": {
        "id": "E8vzMwIO_j4l"
      }
    },
    {
      "cell_type": "code",
      "source": [
        "def extract_email_body(email):\n",
        "    # Split the email into headers and body\n",
        "    parts = email.split(\"\\n\\n\", 1)  # Split on the first empty line\n",
        "    if len(parts) > 1:\n",
        "        return parts[1]  # Return the body\n",
        "    return email  # If no body is found, return the entire email\n",
        "\n",
        "# Extract email bodies\n",
        "email_bodies = [extract_email_body(email) for email in emails]\n",
        "\n",
        "# Display the first few email bodies\n",
        "for i, body in enumerate(email_bodies[:5]):\n",
        "    print(f\"Email Body {i+1}:\")\n",
        "    print(body)\n",
        "    print(\"\\n---\\n\")"
      ],
      "metadata": {
        "colab": {
          "base_uri": "https://localhost:8080/"
        },
        "id": "qdLjdvCZ4vfh",
        "outputId": "ec48f497-895c-465a-a958-ec6f8c904e5a"
      },
      "execution_count": 10,
      "outputs": [
        {
          "output_type": "stream",
          "name": "stdout",
          "text": [
            "Email Body 1:\n",
            "Here is our forecast\n",
            "\n",
            " \n",
            "\n",
            "---\n",
            "\n",
            "Email Body 2:\n",
            "Traveling to have a business meeting takes the fun out of the trip.  Especially if you have to prepare a presentation.  I would suggest holding the business plan meetings here then take a trip without any formal business meetings.  I would even try and get some honest opinions on whether a trip is even desired or necessary.\n",
            "\n",
            "As far as the business meetings, I think it would be more productive to try and stimulate discussions across the different groups about what is working and what is not.  Too often the presenter speaks and the others are quiet just waiting for their turn.   The meetings might be better if held in a round table discussion format.  \n",
            "\n",
            "My suggestion for where to go is Austin.  Play golf and rent a ski boat and jet ski's.  Flying somewhere takes too much time.\n",
            "\n",
            "\n",
            "---\n",
            "\n",
            "Email Body 3:\n",
            "test successful.  way to go!!!\n",
            "\n",
            "---\n",
            "\n",
            "Email Body 4:\n",
            "Randy,\n",
            "\n",
            " Can you send me a schedule of the salary and level of everyone in the \n",
            "scheduling group.  Plus your thoughts on any changes that need to be made.  \n",
            "(Patti S for example)\n",
            "\n",
            "Phillip\n",
            "\n",
            "---\n",
            "\n",
            "Email Body 5:\n",
            "Let's shoot for Tuesday at 11:45.  \n",
            "\n",
            "---\n",
            "\n"
          ]
        }
      ]
    },
    {
      "cell_type": "markdown",
      "source": [
        "Truncating long emails to avoid the API payload limits."
      ],
      "metadata": {
        "id": "2gHe2tOgAJy9"
      }
    },
    {
      "cell_type": "code",
      "source": [
        "def truncate_email(email, max_length=500):\n",
        "    \"\"\"Truncate the email to a maximum length.\"\"\"\n",
        "    return email[:max_length]\n",
        "\n",
        "truncated_email_bodies = [truncate_email(email) for email in email_bodies]\n",
        "\n",
        "for i, email in enumerate(truncated_email_bodies[:5]):\n",
        "    print(f\"Truncated Email {i+1}:\")\n",
        "    print(email)\n",
        "    print(\"\\n---\\n\")"
      ],
      "metadata": {
        "colab": {
          "base_uri": "https://localhost:8080/"
        },
        "id": "Gjkze-bMqVYw",
        "outputId": "d5371868-5867-4531-f1bf-46421734c634"
      },
      "execution_count": 12,
      "outputs": [
        {
          "output_type": "stream",
          "name": "stdout",
          "text": [
            "Truncated Email 1:\n",
            "Here is our forecast\n",
            "\n",
            " \n",
            "\n",
            "---\n",
            "\n",
            "Truncated Email 2:\n",
            "Traveling to have a business meeting takes the fun out of the trip.  Especially if you have to prepare a presentation.  I would suggest holding the business plan meetings here then take a trip without any formal business meetings.  I would even try and get some honest opinions on whether a trip is even desired or necessary.\n",
            "\n",
            "As far as the business meetings, I think it would be more productive to try and stimulate discussions across the different groups about what is working and what is not.  Too\n",
            "\n",
            "---\n",
            "\n",
            "Truncated Email 3:\n",
            "test successful.  way to go!!!\n",
            "\n",
            "---\n",
            "\n",
            "Truncated Email 4:\n",
            "Randy,\n",
            "\n",
            " Can you send me a schedule of the salary and level of everyone in the \n",
            "scheduling group.  Plus your thoughts on any changes that need to be made.  \n",
            "(Patti S for example)\n",
            "\n",
            "Phillip\n",
            "\n",
            "---\n",
            "\n",
            "Truncated Email 5:\n",
            "Let's shoot for Tuesday at 11:45.  \n",
            "\n",
            "---\n",
            "\n"
          ]
        }
      ]
    },
    {
      "cell_type": "markdown",
      "source": [
        "**Calssifying Email into Work, Personal, Promotional, and Spam**"
      ],
      "metadata": {
        "id": "jdzb0oWBCh4k"
      }
    },
    {
      "cell_type": "code",
      "source": [
        "# Classify an email using Groq API\n",
        "def classify_email(email_content):\n",
        "  completion = client.chat.completions.create(\n",
        "      model=\"qwen-2.5-32b\",\n",
        "      messages=[\n",
        "          {\n",
        "              \"role\": \"system\",\n",
        "              \"content\": \"your role is to categorize email into work, personal, promotional, spam just categorize the email don't give justification\"\n",
        "          },\n",
        "          {\n",
        "              \"role\": \"user\",\n",
        "              \"content\": email_content\n",
        "          },\n",
        "      ],\n",
        "      temperature=0.6,\n",
        "      max_completion_tokens=4096,\n",
        "      top_p=0.95,\n",
        "      stream=False,\n",
        "      stop=None,\n",
        "  )\n",
        "  return completion.choices[0].message.content\n",
        "\n",
        "# Classify emails\n",
        "categorized_emails = []\n",
        "for email in truncated_email_bodies[:20]:  # Process the first 10 emails\n",
        "    category = classify_email(email)\n",
        "    categorized_emails.append({\"email\": email, \"category\": category})\n",
        "\n",
        "# Display categorized emails\n",
        "print(\"Categorized Emails:\")\n",
        "for email in categorized_emails:\n",
        "    print(f\"Email: {email['email'][:100]}...\")  # Display first 100 characters\n",
        "    print(f\"Category: {email['category']}\")\n",
        "    print()\n",
        "\n"
      ],
      "metadata": {
        "colab": {
          "base_uri": "https://localhost:8080/"
        },
        "id": "gMRwUNLG5Xy7",
        "outputId": "fcc35703-536b-48c0-e83e-1445385d2ba5"
      },
      "execution_count": 13,
      "outputs": [
        {
          "output_type": "stream",
          "name": "stdout",
          "text": [
            "Categorized Emails:\n",
            "Email: Here is our forecast\n",
            "\n",
            " ...\n",
            "Category: Work\n",
            "\n",
            "Email: Traveling to have a business meeting takes the fun out of the trip.  Especially if you have to prepa...\n",
            "Category: Work\n",
            "\n",
            "Email: test successful.  way to go!!!...\n",
            "Category: personal\n",
            "\n",
            "Email: Randy,\n",
            "\n",
            " Can you send me a schedule of the salary and level of everyone in the \n",
            "scheduling group.  P...\n",
            "Category: Work\n",
            "\n",
            "Email: Let's shoot for Tuesday at 11:45.  ...\n",
            "Category: work\n",
            "\n",
            "Email: Greg,\n",
            "\n",
            " How about either next Tuesday or Thursday?\n",
            "\n",
            "Phillip...\n",
            "Category: work\n",
            "\n",
            "Email: Please cc the following distribution list with updates:\n",
            "\n",
            "Phillip Allen (pallen@enron.com)\n",
            "Mike Grigs...\n",
            "Category: Work\n",
            "\n",
            "Email: any morning between 10 and 11:30...\n",
            "Category: work\n",
            "\n",
            "Email: 1. login:  pallen pw: ke9davis\n",
            "\n",
            " I don't think these are required by the ISP \n",
            "\n",
            "  2.  static IP addre...\n",
            "Category: Work\n",
            "\n",
            "Email: ---------------------- Forwarded by Phillip K Allen/HOU/ECT on 10/16/2000 \n",
            "01:42 PM ----------------...\n",
            "Category: Work\n",
            "\n",
            "Email: Mr. Buckner,\n",
            "\n",
            " For delivered gas behind San Diego, Enron Energy Services is the appropriate \n",
            "Enron e...\n",
            "Category: Work\n",
            "\n",
            "Email: Lucy,\n",
            "\n",
            " Here are the rentrolls:\n",
            "\n",
            "\n",
            "\n",
            " Open them and save in the rentroll folder.  Follow these steps s...\n",
            "Category: Work\n",
            "\n",
            "Email: ---------------------- Forwarded by Phillip K Allen/HOU/ECT on 10/09/2000 \n",
            "02:16 PM ----------------...\n",
            "Category: Work\n",
            "\n",
            "Email: ---------------------- Forwarded by Phillip K Allen/HOU/ECT on 10/09/2000 \n",
            "02:00 PM ----------------...\n",
            "Category: Work\n",
            "\n",
            "Email: Dave, \n",
            "\n",
            " Here are the names of the west desk members by category.  The origination \n",
            "side is very spa...\n",
            "Category: Work\n",
            "\n",
            "Email: Paula,\n",
            "\n",
            " 35 million is fine\n",
            "\n",
            "Phillip...\n",
            "Category: work\n",
            "\n",
            "Email: ---------------------- Forwarded by Phillip K Allen/HOU/ECT on 10/04/2000 \n",
            "04:23 PM ----------------...\n",
            "Category: user work\n",
            "\n",
            "Email: Tim,\n",
            "\n",
            "mike grigsby is having problems with accessing the west power site.  Can you please make sure ...\n",
            "Category: work\n",
            "\n",
            "Email: ---------------------- Forwarded by Phillip K Allen/HOU/ECT on 10/03/2000 \n",
            "04:30 PM ----------------...\n",
            "Category: Work\n",
            "\n",
            "Email: ---------------------- Forwarded by Phillip K Allen/HOU/ECT on 10/03/2000 \n",
            "04:13 PM ----------------...\n",
            "Category: Work\n",
            "\n"
          ]
        }
      ]
    },
    {
      "cell_type": "markdown",
      "source": [
        "**Summarizing Email into 1 to 2 sentences**"
      ],
      "metadata": {
        "id": "etJ1a7gLCnmD"
      }
    },
    {
      "cell_type": "code",
      "source": [
        "def summarize_email(email_content):\n",
        "  completion = client.chat.completions.create(\n",
        "      model=\"qwen-2.5-32b\",\n",
        "      messages=[\n",
        "          {\n",
        "              \"role\": \"system\",\n",
        "              \"content\": \"Summarize this email in one or two sentences.\"\n",
        "          },\n",
        "          {\n",
        "              \"role\": \"user\",\n",
        "              \"content\": email_content\n",
        "          },\n",
        "      ],\n",
        "      temperature=0.6,\n",
        "      max_completion_tokens=4096,\n",
        "      top_p=0.95,\n",
        "      stream=False,\n",
        "      stop=None,\n",
        "  )\n",
        "  return completion.choices[0].message.content\n",
        "\n",
        "# Summarize emails\n",
        "summarized_emails = []\n",
        "for email in email_bodies[:5]:  # Process the first 5 emails for demonstration\n",
        "    summary = summarize_email(email)\n",
        "    summarized_emails.append({\"email\": email, \"summary\": summary})\n",
        "\n",
        "# Display summarized emails\n",
        "for email in summarized_emails:\n",
        "    print(f\"Email: {email['email'][:100]}...\")  # Display first 100 characters\n",
        "    print(f\"Summary: {email['summary']}\")\n",
        "    print()\n"
      ],
      "metadata": {
        "id": "w023Hv-wiTNK",
        "colab": {
          "base_uri": "https://localhost:8080/"
        },
        "outputId": "9ca8c610-21be-4d94-b069-51a3ea9db1d6"
      },
      "execution_count": 14,
      "outputs": [
        {
          "output_type": "stream",
          "name": "stdout",
          "text": [
            "Email: Here is our forecast\n",
            "\n",
            " ...\n",
            "Summary: The email contains a forecast, but it lacks specific details, making it impossible to summarize without additional information.\n",
            "\n",
            "Email: Traveling to have a business meeting takes the fun out of the trip.  Especially if you have to prepa...\n",
            "Summary: The email suggests separating business meetings from leisure trips and recommends a more interactive round table format for meetings. It also proposes going to Austin for recreational activities like golf and water sports, preferring it over flying due to time efficiency.\n",
            "\n",
            "Email: test successful.  way to go!!!...\n",
            "Summary: The test was successful, and congratulations are in order.\n",
            "\n",
            "Email: Randy,\n",
            "\n",
            " Can you send me a schedule of the salary and level of everyone in the \n",
            "scheduling group.  P...\n",
            "Summary: Phillip has asked Randy to provide a schedule detailing the salary and level of everyone in the scheduling group, along with Randy's recommendations for any necessary changes.\n",
            "\n",
            "Email: Let's shoot for Tuesday at 11:45.  ...\n",
            "Summary: The sender proposes to meet on Tuesday at 11:45.\n",
            "\n"
          ]
        }
      ]
    },
    {
      "cell_type": "markdown",
      "source": [
        "**Natural language queries using the Groq API you can chat with your email**"
      ],
      "metadata": {
        "id": "Tq_5WPMZCx0M"
      }
    },
    {
      "cell_type": "code",
      "source": [
        "def process_query(user_query, emails):\n",
        "    \"\"\"\n",
        "    Process a natural language query and retrieve relevant emails using the Groq API.\n",
        "\n",
        "    Args:\n",
        "        user_query (str): The user's query (e.g., \"Show me emails about project updates\").\n",
        "        emails (list): A list of email bodies to search through.\n",
        "\n",
        "    Returns:\n",
        "        list: A list of relevant emails based on the query.\n",
        "    \"\"\"\n",
        "    try:\n",
        "        # Combine the user query and email content into a single prompt\n",
        "        prompt = (\n",
        "            f\"Retrieve emails related to the following query: '{user_query}'. \"\n",
        "            f\"Here are the emails:\\n\\n\" + \"\\n\\n\".join(emails) + \"\\n\\n\"\n",
        "            \"Return only the relevant emails without any additional explanation. \"\n",
        "            \"If no emails are relevant, return 'No relevant emails found.'\"\n",
        "        )\n",
        "        completion = client.chat.completions.create(\n",
        "            model=\"qwen-2.5-32b\",\n",
        "            messages=[\n",
        "                {\n",
        "                    \"role\": \"system\",\n",
        "                    \"content\": \"You are an AI assistant that retrieves relevant emails based on a user query. \"\n",
        "                               \"Return only the relevant emails without any additional explanation.\"\n",
        "                },\n",
        "                {\n",
        "                    \"role\": \"user\",\n",
        "                    \"content\": prompt\n",
        "                },\n",
        "            ],\n",
        "            temperature=0.3,\n",
        "            max_tokens=4096,  # Use max_tokens instead of max_completion_tokens\n",
        "            top_p=0.95,\n",
        "            stream=False,\n",
        "            stop=None,\n",
        "        )\n",
        "\n",
        "        # Extract the response from the Groq API\n",
        "        response = completion.choices[0].message.content\n",
        "\n",
        "        # Split the response into individual emails (assuming the API returns one email per line)\n",
        "        relevant_emails = response.strip().split(\"\\n\")\n",
        "\n",
        "        # Filter out empty strings (if any)\n",
        "        relevant_emails = [email for email in relevant_emails if email.strip()]\n",
        "\n",
        "        # If no relevant emails are found, return a default message\n",
        "        if not relevant_emails:\n",
        "            return [\"No relevant emails found.\"]\n",
        "\n",
        "        return relevant_emails\n",
        "\n",
        "    except Exception as e:\n",
        "        print(f\"Error processing query: {e}\")\n",
        "        return [\"An error occurred while processing the query.\"]\n",
        "\n",
        "# Process a query\n",
        "user_query = input(\"Enter a query: \")\n",
        "relevant_emails = process_query(user_query, truncated_email_bodies[:50])  # Process the first 50 emails to avoid payload\n",
        "\n",
        "# Display relevant emails\n",
        "print(f\"Query: {user_query}\")\n",
        "if relevant_emails:\n",
        "    for email in relevant_emails:\n",
        "        print(f\"Relevant Email: {email[:100]}...\")\n",
        "    print(\"No relevant emails found.\")"
      ],
      "metadata": {
        "colab": {
          "base_uri": "https://localhost:8080/"
        },
        "id": "Qj0-5fy2E5Jp",
        "outputId": "dbf03828-33f6-4453-b68a-7fd80faf5ff3"
      },
      "execution_count": 25,
      "outputs": [
        {
          "output_type": "stream",
          "name": "stdout",
          "text": [
            "Enter a query: show the schedule?\n",
            "Query: show the schedule?\n",
            "Relevant Email: Randy,...\n",
            "Relevant Email:  Can you send me a schedule of the salary and level of everyone in the ...\n",
            "Relevant Email: scheduling group.  Plus your thoughts on any changes that need to be made.  ...\n",
            "Relevant Email: (Patti S for example)...\n",
            "Relevant Email: Phillip...\n",
            "Relevant Email: ---------------------- Forwarded by Phillip K Allen/HOU/ECT on 09/26/2000 ...\n",
            "Relevant Email: 12:07 PM ---------------------------...\n",
            "Relevant Email: \tFrom:  Cindy Cicchetti                           09/26/2000 09:23 AM...\n",
            "Relevant Email: To: Phillip K Allen/HOU/ECT@ECT, Hunter S Shively/HOU/ECT@ECT, Scott ...\n",
            "Relevant Email: Mills/HOU/ECT@ECT, Allan Severude/HOU/ECT@ECT, Russ Severson/HOU/ECT@ECT, ...\n",
            "Relevant Email: Fletcher J Sturm/HOU/ECT@ECT, Scott Neal/HOU/ECT@ECT...\n",
            "Relevant Email: cc:  ...\n",
            "Relevant Email: Subject: Gas Physical/Financial Position...\n",
            "Relevant Email: I have scheduled and entered on each of your calendars a meet...\n",
            "Relevant Email: ---------------------- Forwarded by Phillip K Allen/HOU/ECT on 09/25/2000 ...\n",
            "Relevant Email: 02:00 PM ---------------------------...\n",
            "Relevant Email: \tInvitation...\n",
            "Relevant Email: Chairperson: Richard Burchfield...\n",
            "Relevant Email: Sent by: Cindy Cicchetti...\n",
            "Relevant Email: Start: 09/27/2000 01:00 PM...\n",
            "Relevant Email: End: 09/27/2000 02:00 PM...\n",
            "Relevant Email: Description: Gas Physical/Financail Positions - Room 2537...\n",
            "Relevant Email: This meeting repeats   starting on    (if the date occurs on a weekend the ...\n",
            "Relevant Email: meeting )....\n",
            "Relevant Email: Meeting Dates: ...\n",
            "Relevant Email: Fletcher J Sturm/HOU/ECT...\n",
            "Relevant Email: Scott Neal/HOU/ECT...\n",
            "Relevant Email: Hunter S Shively/HOU/ECT...\n",
            "Relevant Email: Phillip K Allen/HOU/ECT...\n",
            "Relevant Email: All...\n",
            "Relevant Email: ---------------------- Forwarded by Phillip K Allen/HOU/ECT on 09/25/2000 ...\n",
            "Relevant Email: 02:01 PM ---------------------------...\n",
            "Relevant Email: \tReschedule...\n",
            "Relevant Email: Chairperson: Richard Burchfield...\n",
            "Relevant Email: Sent by: Cindy Cicchetti...\n",
            "Relevant Email: Start: 09/28/2000 01:00 PM...\n",
            "Relevant Email: End: 09/28/2000 02:00 PM...\n",
            "Relevant Email: Description: Gas Physical/Financail Positions - Room 2537...\n",
            "Relevant Email: This meeting repeats   starting on    (if the date occurs on a weekend the ...\n",
            "Relevant Email: meeting )....\n",
            "Relevant Email: Meeting Dates: ...\n",
            "Relevant Email: Fletcher J Sturm/HOU/ECT...\n",
            "Relevant Email: Scott Neal/HOU/ECT...\n",
            "Relevant Email: Hunter S Shively/HOU/ECT...\n",
            "Relevant Email: Phillip K Allen/HOU/ECT...\n",
            "Relevant Email: All...\n",
            "No relevant emails found.\n"
          ]
        }
      ]
    },
    {
      "cell_type": "code",
      "source": [
        "def process_query(user_query, emails):\n",
        "    \"\"\"\n",
        "    Process a natural language query and retrieve relevant emails using the Groq API.\n",
        "    \"\"\"\n",
        "    try:\n",
        "        # Ensure emails are formatted properly\n",
        "        formatted_emails = \"\\n\\n\".join([f\"Email {i+1}: {email}\" for i, email in enumerate(emails)])\n",
        "\n",
        "        # More structured prompt\n",
        "        prompt = (\n",
        "            f\"I have the following emails:\\n\\n{formatted_emails}\\n\\n\"\n",
        "            f\"Retrieve only the emails that are directly relevant to the query: '{user_query}'.\\n\"\n",
        "            f\"Return the most relevant 5 emails. If no relevant emails exist, just return 'No relevant emails found'.\"\n",
        "        )\n",
        "\n",
        "        completion = client.chat.completions.create(\n",
        "            model=\"qwen-2.5-32b\",\n",
        "            messages=[\n",
        "                {\n",
        "                    \"role\": \"system\",\n",
        "                    \"content\": \"You are an AI email assistant. Your task is to find and return ONLY the most relevant emails to the user's query.\"\n",
        "                },\n",
        "                {\n",
        "                    \"role\": \"user\",\n",
        "                    \"content\": prompt\n",
        "                },\n",
        "            ],\n",
        "            temperature=0.3,  # Lower temperature for more focused answers\n",
        "            max_tokens=2048,  # Reduce token size to avoid too many results\n",
        "            top_p=0.8,        # More focused response\n",
        "            stream=False,\n",
        "            stop=None,\n",
        "        )\n",
        "\n",
        "        # Extract response\n",
        "        response = completion.choices[0].message.content.strip()\n",
        "\n",
        "        # Handle no relevant emails found\n",
        "        if \"No relevant emails found\" in response:\n",
        "            return [\"No relevant emails found.\"]\n",
        "\n",
        "        # Split response into individual emails\n",
        "        relevant_emails = response.split(\"\\n\")\n",
        "\n",
        "        return relevant_emails[:5]  # Limit results to top 5 emails\n",
        "\n",
        "    except Exception as e:\n",
        "        print(f\"Error processing query: {e}\")\n",
        "        return [\"An error occurred while processing the query.\"]\n",
        "user_query = \"What is the schedule?\"\n",
        "relevant_emails = process_query(user_query, truncated_email_bodies[:50])  # Limit input to 50 emails\n",
        "\n",
        "# Display results\n",
        "print(f\"Query: {user_query}\")\n",
        "if relevant_emails:\n",
        "    for email in relevant_emails:\n",
        "        print(f\"Relevant Email: {email[:200]}...\")  # Show only first 200 characters for readability\n",
        "else:\n",
        "    print(\"No relevant emails found.\")\n"
      ],
      "metadata": {
        "colab": {
          "base_uri": "https://localhost:8080/"
        },
        "id": "udgEPpaSUJA5",
        "outputId": "0a05bafc-5744-4b91-816a-1de62b29e85f"
      },
      "execution_count": 24,
      "outputs": [
        {
          "output_type": "stream",
          "name": "stdout",
          "text": [
            "Query: What is the schedule?\n",
            "Relevant Email: No relevant emails found....\n"
          ]
        }
      ]
    }
  ]
}